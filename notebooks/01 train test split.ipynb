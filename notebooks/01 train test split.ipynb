{
 "cells": [
  {
   "cell_type": "code",
   "execution_count": 1,
   "id": "9a430994-9604-4ec7-bb0a-8dd0dc8d3bcb",
   "metadata": {},
   "outputs": [],
   "source": [
    "from pathlib import Path\n",
    "from collections import defaultdict\n",
    "\n",
    "from sklearn.model_selection import train_test_split"
   ]
  },
  {
   "cell_type": "code",
   "execution_count": 2,
   "id": "9d4815cc-35b6-4f79-803b-8a86682fa6f7",
   "metadata": {},
   "outputs": [],
   "source": [
    "dataset_root = Path(\"../dataset/ordered\")\n",
    "full_en = dataset_root / \"ar-en.en\"\n",
    "full_ar = dataset_root / \"ar-en.ar\""
   ]
  },
  {
   "cell_type": "markdown",
   "id": "f4e513ff-c1f1-46bd-83a2-5b607dce2f9f",
   "metadata": {},
   "source": [
    "# get the splits"
   ]
  },
  {
   "cell_type": "code",
   "execution_count": 3,
   "id": "01954965-1fc9-4d8f-b4cf-0a36ec9dbebd",
   "metadata": {},
   "outputs": [],
   "source": [
    "with open(full_en) as f:\n",
    "    en_arr = f.readlines()\n",
    "\n",
    "with open(full_ar) as f:\n",
    "    ar_arr = f.readlines()\n",
    "    \n",
    "mapper = defaultdict(list)\n",
    "for i,utt in enumerate(en_arr):\n",
    "    mapper[len(utt.split())].append(i)"
   ]
  },
  {
   "cell_type": "code",
   "execution_count": 26,
   "id": "ed05b343-7eef-48c8-b5c1-5b198d93b993",
   "metadata": {},
   "outputs": [],
   "source": [
    "train_mapper = {}\n",
    "test_mapper = {}\n",
    "for freq,idxs in mapper.items():\n",
    "    train_idxs,test_idxs = train_test_split(idxs,train_size=0.55,test_size=0.005)\n",
    "    # _,train_idxs = train_test_split(train_idxs,test_size=0.1)\n",
    "    \n",
    "    train_mapper[freq] = train_idxs\n",
    "    test_mapper[freq] = test_idxs\n",
    "    "
   ]
  },
  {
   "cell_type": "code",
   "execution_count": 27,
   "id": "4d986806-cfc6-49a8-ad92-ddf60bc7c582",
   "metadata": {},
   "outputs": [
    {
     "data": {
      "text/plain": [
       "92670"
      ]
     },
     "execution_count": 27,
     "metadata": {},
     "output_type": "execute_result"
    }
   ],
   "source": [
    "sum([len(x) for x in test_mapper.values()])"
   ]
  },
  {
   "cell_type": "code",
   "execution_count": 28,
   "id": "039d3ff7-9945-472f-bd41-7e356c076b3f",
   "metadata": {},
   "outputs": [
    {
     "data": {
      "text/plain": [
       "10185123"
      ]
     },
     "execution_count": 28,
     "metadata": {},
     "output_type": "execute_result"
    }
   ],
   "source": [
    "sum([len(x) for x in train_mapper.values()])"
   ]
  },
  {
   "cell_type": "markdown",
   "id": "87bcce44-f4c3-4bf6-9786-e44fde6182cc",
   "metadata": {},
   "source": [
    "# write the splits"
   ]
  },
  {
   "cell_type": "code",
   "execution_count": 29,
   "id": "bea1cf65-39b2-4b18-8de8-25460d3e2d68",
   "metadata": {},
   "outputs": [],
   "source": [
    "train_path = dataset_root / \"train\"\n",
    "\n",
    "f1 = open(train_path/\"ar-en.en\",\"a\")\n",
    "f2 = open(train_path/\"ar-en.ar\",\"a\")\n",
    "\n",
    "for freq,idxs in sorted(list(train_mapper.items()),key = lambda x: x[0],reverse=True):\n",
    "    for idx in idxs:\n",
    "        f1.write(en_arr[idx])\n",
    "        f2.write(ar_arr[idx])\n",
    "        \n",
    "    \n",
    "f1.close()\n",
    "f2.close()"
   ]
  },
  {
   "cell_type": "code",
   "execution_count": 30,
   "id": "2749dc39-162f-49e6-b965-9c52df98337e",
   "metadata": {},
   "outputs": [],
   "source": [
    "valid_path = dataset_root / \"valid\"\n",
    "\n",
    "f1 = open(valid_path/\"ar-en.en\",\"a\")\n",
    "f2 = open(valid_path/\"ar-en.ar\",\"a\")\n",
    "\n",
    "for freq,idxs in sorted(list(test_mapper.items()),key = lambda x: x[0],reverse=True):\n",
    "    for idx in idxs:\n",
    "        f1.write(en_arr[idx])\n",
    "        f2.write(ar_arr[idx])\n",
    "        \n",
    "    \n",
    "f1.close()\n",
    "f2.close()"
   ]
  },
  {
   "cell_type": "code",
   "execution_count": null,
   "id": "561783c0-7156-4ad9-be09-01dbdb0b713b",
   "metadata": {},
   "outputs": [],
   "source": []
  }
 ],
 "metadata": {
  "kernelspec": {
   "display_name": "Python [conda env:nlp_env]",
   "language": "python",
   "name": "conda-env-nlp_env-py"
  },
  "language_info": {
   "codemirror_mode": {
    "name": "ipython",
    "version": 3
   },
   "file_extension": ".py",
   "mimetype": "text/x-python",
   "name": "python",
   "nbconvert_exporter": "python",
   "pygments_lexer": "ipython3",
   "version": "3.10.9"
  }
 },
 "nbformat": 4,
 "nbformat_minor": 5
}
