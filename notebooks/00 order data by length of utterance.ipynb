{
 "cells": [
  {
   "cell_type": "code",
   "execution_count": 1,
   "id": "e8adf447-70d6-4bb2-a889-8f238b7dc166",
   "metadata": {},
   "outputs": [
    {
     "name": "stderr",
     "output_type": "stream",
     "text": [
      "/Users/khalid/opt/anaconda3/envs/nlp_env/lib/python3.10/site-packages/tqdm/auto.py:22: TqdmWarning: IProgress not found. Please update jupyter and ipywidgets. See https://ipywidgets.readthedocs.io/en/stable/user_install.html\n",
      "  from .autonotebook import tqdm as notebook_tqdm\n"
     ]
    },
    {
     "data": {
      "text/plain": [
       "<module 'dataset' from '/Users/khalid/personal_nlp_playground/seq-seq-translation/notebooks/../utils/dataset.py'>"
      ]
     },
     "execution_count": 1,
     "metadata": {},
     "output_type": "execute_result"
    }
   ],
   "source": [
    "from pathlib import Path\n",
    "\n",
    "import importlib\n",
    "import sys\n",
    "sys.path.append(\"../utils\")\n",
    "\n",
    "import dataset\n",
    "\n",
    "\n",
    "\n",
    "importlib.reload(dataset)"
   ]
  },
  {
   "cell_type": "code",
   "execution_count": 2,
   "id": "d179bf05-d0b3-46a9-99d7-c61bd0832c38",
   "metadata": {},
   "outputs": [],
   "source": [
    "dataset_root = Path(\"../dataset/raw\")\n",
    "ar_path  = dataset_root / \"ar-en.ar\"\n",
    "en_path  = dataset_root / \"ar-en.en\""
   ]
  },
  {
   "cell_type": "code",
   "execution_count": 3,
   "id": "4cd570e8-db0b-48c4-8cba-8844a3aaef7d",
   "metadata": {},
   "outputs": [],
   "source": [
    "def _sort_data_by_length_of_utt(input_path,output_path,saving_path):\n",
    "    print(\"Reading data ... \", end=\" \")\n",
    "    # read data\n",
    "    with open(input_path) as f:\n",
    "        input_arr = f.readlines()\n",
    "        \n",
    "    with open(output_path) as f:\n",
    "        output_arr = f.readlines()\n",
    "    print(\"Done!\")\n",
    "    \n",
    "    assert len(input_arr) == len(output_arr)\n",
    "    \n",
    "    # order lines according to input length\n",
    "    n = len(input_arr)\n",
    "    \n",
    "    print(\"getting sorted idxs ... \",end = \" \")\n",
    "    sorted_idxs = sorted(range(n),key=lambda x:len(input_arr[x].split()),reverse=True)\n",
    "    print(\" Done!\")\n",
    "    \n",
    "    print(f\"writing data to {saving_path}\",end=\" \")\n",
    "    \n",
    "    saving_path_input  = saving_path/input_path.parts[-1]\n",
    "    saving_path_output = saving_path/output_path.parts[-1]\n",
    "    \n",
    "    f1 = open(saving_path_input,\"a\")\n",
    "    f2= open(saving_path_output,\"a\")\n",
    "    for idx  in sorted_idxs:\n",
    "        # drop too long utterances\n",
    "        if len(input_arr[idx].split()) < 150: \n",
    "            f1.write(input_arr[idx])\n",
    "            f2.write(output_arr[idx])\n",
    "        \n",
    "    f1.close()\n",
    "    f.close()\n",
    "    \n",
    "    print(\"Done!\")"
   ]
  },
  {
   "cell_type": "code",
   "execution_count": 4,
   "id": "403de11d-673b-48fa-b3e0-c0d6ca7108e0",
   "metadata": {},
   "outputs": [
    {
     "name": "stdout",
     "output_type": "stream",
     "text": [
      "Reading data ...  Done!\n",
      "getting sorted idxs ...   Done!\n",
      "writing data to ../dataset/ordered Done!\n"
     ]
    }
   ],
   "source": [
    "_sort_data_by_length_of_utt(en_path,ar_path,Path(\"../dataset/ordered\"))"
   ]
  },
  {
   "cell_type": "code",
   "execution_count": null,
   "id": "ef208765-584b-422d-bab1-f72ddbaad51a",
   "metadata": {},
   "outputs": [],
   "source": []
  },
  {
   "cell_type": "code",
   "execution_count": 38,
   "id": "579fad3a-5ae5-42fe-872f-8a624fba296a",
   "metadata": {},
   "outputs": [],
   "source": [
    "def func():\n",
    "    for i in range(10):\n",
    "        yield i"
   ]
  },
  {
   "cell_type": "code",
   "execution_count": 39,
   "id": "6549029f-3c90-4909-b79d-b3669bb08700",
   "metadata": {},
   "outputs": [],
   "source": [
    "gen = func()"
   ]
  },
  {
   "cell_type": "code",
   "execution_count": 47,
   "id": "e7aa605d-75e4-4a14-b0b6-c34f7e112ec4",
   "metadata": {},
   "outputs": [
    {
     "data": {
      "text/plain": [
       "7"
      ]
     },
     "execution_count": 47,
     "metadata": {},
     "output_type": "execute_result"
    }
   ],
   "source": [
    "next(gen)"
   ]
  },
  {
   "cell_type": "code",
   "execution_count": null,
   "id": "888f70f1-f7ac-47e3-a2e0-2928483b8c5e",
   "metadata": {},
   "outputs": [],
   "source": []
  },
  {
   "cell_type": "code",
   "execution_count": 225,
   "id": "c952ea68-d230-4f85-988d-25373bd632cf",
   "metadata": {},
   "outputs": [],
   "source": [
    "class some_class():\n",
    "    def __init__(self):\n",
    "        pass\n",
    "    \n",
    "    def __iter__(self):\n",
    "        i = iter(range(10))\n",
    "        while True:\n",
    "            try:\n",
    "                yield next(i)\n",
    "            except:\n",
    "                i = iter(range(10))"
   ]
  },
  {
   "cell_type": "code",
   "execution_count": 226,
   "id": "88bf8917-f2fe-4a5d-8c35-56af8e3f13c4",
   "metadata": {},
   "outputs": [],
   "source": [
    "s = some_class()\n",
    "s_iter = iter(s)"
   ]
  },
  {
   "cell_type": "code",
   "execution_count": 246,
   "id": "046ddcaf-9777-4daa-ad77-1c7e1ae473a2",
   "metadata": {},
   "outputs": [
    {
     "data": {
      "text/plain": [
       "9"
      ]
     },
     "execution_count": 246,
     "metadata": {},
     "output_type": "execute_result"
    }
   ],
   "source": [
    "next(s_iter)"
   ]
  },
  {
   "cell_type": "code",
   "execution_count": 94,
   "id": "aa2d0a02-e98c-4dd8-97eb-150b9381d09b",
   "metadata": {},
   "outputs": [
    {
     "ename": "RuntimeError",
     "evalue": "generator raised StopIteration",
     "output_type": "error",
     "traceback": [
      "\u001b[0;31m---------------------------------------------------------------------------\u001b[0m",
      "\u001b[0;31mStopIteration\u001b[0m                             Traceback (most recent call last)",
      "Cell \u001b[0;32mIn[87], line 10\u001b[0m, in \u001b[0;36msome_class.__iter__\u001b[0;34m(self)\u001b[0m\n\u001b[1;32m      9\u001b[0m \u001b[38;5;28;01melse\u001b[39;00m:\n\u001b[0;32m---> 10\u001b[0m     \u001b[38;5;28;01mraise\u001b[39;00m \u001b[38;5;167;01mStopIteration\u001b[39;00m\n",
      "\u001b[0;31mStopIteration\u001b[0m: ",
      "\nThe above exception was the direct cause of the following exception:\n",
      "\u001b[0;31mRuntimeError\u001b[0m                              Traceback (most recent call last)",
      "Cell \u001b[0;32mIn[94], line 1\u001b[0m\n\u001b[0;32m----> 1\u001b[0m \u001b[38;5;28;43mnext\u001b[39;49m\u001b[43m(\u001b[49m\u001b[43ms_iter\u001b[49m\u001b[43m)\u001b[49m\n",
      "\u001b[0;31mRuntimeError\u001b[0m: generator raised StopIteration"
     ]
    }
   ],
   "source": [
    "next(s_iter)"
   ]
  },
  {
   "cell_type": "code",
   "execution_count": null,
   "id": "e791c2a8-e89a-494d-a42d-417b9dfca28a",
   "metadata": {},
   "outputs": [],
   "source": []
  }
 ],
 "metadata": {
  "kernelspec": {
   "display_name": "Python [conda env:nlp_env]",
   "language": "python",
   "name": "conda-env-nlp_env-py"
  },
  "language_info": {
   "codemirror_mode": {
    "name": "ipython",
    "version": 3
   },
   "file_extension": ".py",
   "mimetype": "text/x-python",
   "name": "python",
   "nbconvert_exporter": "python",
   "pygments_lexer": "ipython3",
   "version": "3.10.9"
  }
 },
 "nbformat": 4,
 "nbformat_minor": 5
}
